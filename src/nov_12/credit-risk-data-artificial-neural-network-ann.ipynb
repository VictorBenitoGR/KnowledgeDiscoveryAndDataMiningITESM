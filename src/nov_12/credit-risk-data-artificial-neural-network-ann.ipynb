{
 "cells": [
  {
   "cell_type": "code",
   "execution_count": 1,
   "id": "original-sport",
   "metadata": {
    "_cell_guid": "b1076dfc-b9ad-4769-8c92-a6c4dae69d19",
    "_uuid": "8f2839f25d086af736a60e9eeb907d3b93b6e0e5",
    "execution": {
     "iopub.execute_input": "2021-05-11T07:59:05.123453Z",
     "iopub.status.busy": "2021-05-11T07:59:05.122761Z",
     "iopub.status.idle": "2021-05-11T07:59:05.135591Z",
     "shell.execute_reply": "2021-05-11T07:59:05.134374Z"
    },
    "papermill": {
     "duration": 0.053006,
     "end_time": "2021-05-11T07:59:05.135857",
     "exception": false,
     "start_time": "2021-05-11T07:59:05.082851",
     "status": "completed"
    },
    "tags": []
   },
   "outputs": [
    {
     "name": "stdout",
     "output_type": "stream",
     "text": [
      "/kaggle/input/creditrisk/CreditRisk.csv\n"
     ]
    }
   ],
   "source": [
    "# This Python 3 environment comes with many helpful analytics libraries installed\n",
    "# It is defined by the kaggle/python Docker image: https://github.com/kaggle/docker-python\n",
    "# For example, here's several helpful packages to load\n",
    "\n",
    "import numpy as np # linear algebra\n",
    "import pandas as pd # data processing, CSV file I/O (e.g. pd.read_csv)\n",
    "\n",
    "# Input data files are available in the read-only \"../input/\" directory\n",
    "# For example, running this (by clicking run or pressing Shift+Enter) will list all files under the input directory\n",
    "\n",
    "import os\n",
    "for dirname, _, filenames in os.walk('/kaggle/input'):\n",
    "    for filename in filenames:\n",
    "        print(os.path.join(dirname, filename))\n",
    "\n",
    "# You can write up to 20GB to the current directory (/kaggle/working/) that gets preserved as output when you create a version using \"Save & Run All\" \n",
    "# You can also write temporary files to /kaggle/temp/, but they won't be saved outside of the current session"
   ]
  },
  {
   "cell_type": "markdown",
   "id": "congressional-failure",
   "metadata": {
    "papermill": {
     "duration": 0.026857,
     "end_time": "2021-05-11T07:59:05.194472",
     "exception": false,
     "start_time": "2021-05-11T07:59:05.167615",
     "status": "completed"
    },
    "tags": []
   },
   "source": [
    "### Using tensorflow, I will be doing Neural Network Regression on Credit Risk dataset. This will help understand whether a speficic customer is a Credit Risk (defaulter) or not."
   ]
  },
  {
   "cell_type": "markdown",
   "id": "civilian-saver",
   "metadata": {
    "papermill": {
     "duration": 0.026523,
     "end_time": "2021-05-11T07:59:05.248114",
     "exception": false,
     "start_time": "2021-05-11T07:59:05.221591",
     "status": "completed"
    },
    "tags": []
   },
   "source": [
    "### Step 1- Importing Necessary Libraries"
   ]
  },
  {
   "cell_type": "code",
   "execution_count": 2,
   "id": "sealed-stevens",
   "metadata": {
    "execution": {
     "iopub.execute_input": "2021-05-11T07:59:05.308637Z",
     "iopub.status.busy": "2021-05-11T07:59:05.307813Z",
     "iopub.status.idle": "2021-05-11T07:59:12.956687Z",
     "shell.execute_reply": "2021-05-11T07:59:12.956054Z"
    },
    "papermill": {
     "duration": 7.681569,
     "end_time": "2021-05-11T07:59:12.956880",
     "exception": false,
     "start_time": "2021-05-11T07:59:05.275311",
     "status": "completed"
    },
    "tags": []
   },
   "outputs": [],
   "source": [
    "import numpy as np\n",
    "import pandas as pd\n",
    "import tensorflow as tf\n",
    "import seaborn as sns\n",
    "import matplotlib.pyplot as plt"
   ]
  },
  {
   "cell_type": "code",
   "execution_count": 3,
   "id": "demanding-fortune",
   "metadata": {
    "execution": {
     "iopub.execute_input": "2021-05-11T07:59:13.031214Z",
     "iopub.status.busy": "2021-05-11T07:59:13.030583Z",
     "iopub.status.idle": "2021-05-11T07:59:13.088090Z",
     "shell.execute_reply": "2021-05-11T07:59:13.087377Z"
    },
    "papermill": {
     "duration": 0.092714,
     "end_time": "2021-05-11T07:59:13.088241",
     "exception": false,
     "start_time": "2021-05-11T07:59:12.995527",
     "status": "completed"
    },
    "tags": []
   },
   "outputs": [
    {
     "data": {
      "text/html": [
       "<div>\n",
       "<style scoped>\n",
       "    .dataframe tbody tr th:only-of-type {\n",
       "        vertical-align: middle;\n",
       "    }\n",
       "\n",
       "    .dataframe tbody tr th {\n",
       "        vertical-align: top;\n",
       "    }\n",
       "\n",
       "    .dataframe thead th {\n",
       "        text-align: right;\n",
       "    }\n",
       "</style>\n",
       "<table border=\"1\" class=\"dataframe\">\n",
       "  <thead>\n",
       "    <tr style=\"text-align: right;\">\n",
       "      <th></th>\n",
       "      <th>Loan_ID</th>\n",
       "      <th>Gender</th>\n",
       "      <th>Married</th>\n",
       "      <th>Dependents</th>\n",
       "      <th>Education</th>\n",
       "      <th>Self_Employed</th>\n",
       "      <th>ApplicantIncome</th>\n",
       "      <th>CoapplicantIncome</th>\n",
       "      <th>LoanAmount</th>\n",
       "      <th>Loan_Amount_Term</th>\n",
       "      <th>Credit_History</th>\n",
       "      <th>Property_Area</th>\n",
       "      <th>Loan_Status</th>\n",
       "    </tr>\n",
       "  </thead>\n",
       "  <tbody>\n",
       "    <tr>\n",
       "      <th>0</th>\n",
       "      <td>LP001002</td>\n",
       "      <td>Male</td>\n",
       "      <td>No</td>\n",
       "      <td>0.0</td>\n",
       "      <td>Graduate</td>\n",
       "      <td>No</td>\n",
       "      <td>5849</td>\n",
       "      <td>0.0</td>\n",
       "      <td>NaN</td>\n",
       "      <td>360.0</td>\n",
       "      <td>1.0</td>\n",
       "      <td>Urban</td>\n",
       "      <td>Y</td>\n",
       "    </tr>\n",
       "    <tr>\n",
       "      <th>1</th>\n",
       "      <td>LP001003</td>\n",
       "      <td>Male</td>\n",
       "      <td>Yes</td>\n",
       "      <td>1.0</td>\n",
       "      <td>Graduate</td>\n",
       "      <td>No</td>\n",
       "      <td>4583</td>\n",
       "      <td>1508.0</td>\n",
       "      <td>128.0</td>\n",
       "      <td>360.0</td>\n",
       "      <td>1.0</td>\n",
       "      <td>Rural</td>\n",
       "      <td>N</td>\n",
       "    </tr>\n",
       "    <tr>\n",
       "      <th>2</th>\n",
       "      <td>LP001005</td>\n",
       "      <td>Male</td>\n",
       "      <td>Yes</td>\n",
       "      <td>0.0</td>\n",
       "      <td>Graduate</td>\n",
       "      <td>Yes</td>\n",
       "      <td>3000</td>\n",
       "      <td>0.0</td>\n",
       "      <td>66.0</td>\n",
       "      <td>360.0</td>\n",
       "      <td>1.0</td>\n",
       "      <td>Urban</td>\n",
       "      <td>Y</td>\n",
       "    </tr>\n",
       "    <tr>\n",
       "      <th>3</th>\n",
       "      <td>LP001006</td>\n",
       "      <td>Male</td>\n",
       "      <td>Yes</td>\n",
       "      <td>0.0</td>\n",
       "      <td>Not Graduate</td>\n",
       "      <td>No</td>\n",
       "      <td>2583</td>\n",
       "      <td>2358.0</td>\n",
       "      <td>120.0</td>\n",
       "      <td>360.0</td>\n",
       "      <td>1.0</td>\n",
       "      <td>Urban</td>\n",
       "      <td>Y</td>\n",
       "    </tr>\n",
       "    <tr>\n",
       "      <th>4</th>\n",
       "      <td>LP001008</td>\n",
       "      <td>Male</td>\n",
       "      <td>No</td>\n",
       "      <td>0.0</td>\n",
       "      <td>Graduate</td>\n",
       "      <td>No</td>\n",
       "      <td>6000</td>\n",
       "      <td>0.0</td>\n",
       "      <td>141.0</td>\n",
       "      <td>360.0</td>\n",
       "      <td>1.0</td>\n",
       "      <td>Urban</td>\n",
       "      <td>Y</td>\n",
       "    </tr>\n",
       "  </tbody>\n",
       "</table>\n",
       "</div>"
      ],
      "text/plain": [
       "    Loan_ID Gender Married  Dependents     Education Self_Employed  \\\n",
       "0  LP001002   Male      No         0.0      Graduate            No   \n",
       "1  LP001003   Male     Yes         1.0      Graduate            No   \n",
       "2  LP001005   Male     Yes         0.0      Graduate           Yes   \n",
       "3  LP001006   Male     Yes         0.0  Not Graduate            No   \n",
       "4  LP001008   Male      No         0.0      Graduate            No   \n",
       "\n",
       "   ApplicantIncome  CoapplicantIncome  LoanAmount  Loan_Amount_Term  \\\n",
       "0             5849                0.0         NaN             360.0   \n",
       "1             4583             1508.0       128.0             360.0   \n",
       "2             3000                0.0        66.0             360.0   \n",
       "3             2583             2358.0       120.0             360.0   \n",
       "4             6000                0.0       141.0             360.0   \n",
       "\n",
       "   Credit_History Property_Area Loan_Status  \n",
       "0             1.0         Urban           Y  \n",
       "1             1.0         Rural           N  \n",
       "2             1.0         Urban           Y  \n",
       "3             1.0         Urban           Y  \n",
       "4             1.0         Urban           Y  "
      ]
     },
     "execution_count": 3,
     "metadata": {},
     "output_type": "execute_result"
    }
   ],
   "source": [
    "# Read dataset\n",
    "df = pd.read_csv('/kaggle/input/creditrisk/CreditRisk.csv')\n",
    "df.head()"
   ]
  },
  {
   "cell_type": "code",
   "execution_count": 4,
   "id": "quick-danish",
   "metadata": {
    "execution": {
     "iopub.execute_input": "2021-05-11T07:59:13.152975Z",
     "iopub.status.busy": "2021-05-11T07:59:13.152313Z",
     "iopub.status.idle": "2021-05-11T07:59:13.157649Z",
     "shell.execute_reply": "2021-05-11T07:59:13.156969Z"
    },
    "papermill": {
     "duration": 0.039147,
     "end_time": "2021-05-11T07:59:13.157831",
     "exception": false,
     "start_time": "2021-05-11T07:59:13.118684",
     "status": "completed"
    },
    "tags": []
   },
   "outputs": [
    {
     "name": "stdout",
     "output_type": "stream",
     "text": [
      "This dataset has 981 rows and 13 columns\n"
     ]
    }
   ],
   "source": [
    "print(\"This dataset has {0} rows and {1} columns\".format(df.shape[0], df.shape[1]))"
   ]
  },
  {
   "cell_type": "markdown",
   "id": "sexual-parks",
   "metadata": {
    "papermill": {
     "duration": 0.032053,
     "end_time": "2021-05-11T07:59:13.222362",
     "exception": false,
     "start_time": "2021-05-11T07:59:13.190309",
     "status": "completed"
    },
    "tags": []
   },
   "source": [
    "### Step 2 - Identifying Identifier columns\n",
    "'Loan_ID' is an identifier column. \n",
    "So we will remove this column."
   ]
  },
  {
   "cell_type": "code",
   "execution_count": 5,
   "id": "modern-protection",
   "metadata": {
    "execution": {
     "iopub.execute_input": "2021-05-11T07:59:13.306790Z",
     "iopub.status.busy": "2021-05-11T07:59:13.306005Z",
     "iopub.status.idle": "2021-05-11T07:59:13.311022Z",
     "shell.execute_reply": "2021-05-11T07:59:13.310325Z"
    },
    "papermill": {
     "duration": 0.059731,
     "end_time": "2021-05-11T07:59:13.311175",
     "exception": false,
     "start_time": "2021-05-11T07:59:13.251444",
     "status": "completed"
    },
    "tags": []
   },
   "outputs": [
    {
     "data": {
      "text/html": [
       "<div>\n",
       "<style scoped>\n",
       "    .dataframe tbody tr th:only-of-type {\n",
       "        vertical-align: middle;\n",
       "    }\n",
       "\n",
       "    .dataframe tbody tr th {\n",
       "        vertical-align: top;\n",
       "    }\n",
       "\n",
       "    .dataframe thead th {\n",
       "        text-align: right;\n",
       "    }\n",
       "</style>\n",
       "<table border=\"1\" class=\"dataframe\">\n",
       "  <thead>\n",
       "    <tr style=\"text-align: right;\">\n",
       "      <th></th>\n",
       "      <th>Gender</th>\n",
       "      <th>Married</th>\n",
       "      <th>Dependents</th>\n",
       "      <th>Education</th>\n",
       "      <th>Self_Employed</th>\n",
       "      <th>ApplicantIncome</th>\n",
       "      <th>CoapplicantIncome</th>\n",
       "      <th>LoanAmount</th>\n",
       "      <th>Loan_Amount_Term</th>\n",
       "      <th>Credit_History</th>\n",
       "      <th>Property_Area</th>\n",
       "      <th>Loan_Status</th>\n",
       "    </tr>\n",
       "  </thead>\n",
       "  <tbody>\n",
       "    <tr>\n",
       "      <th>0</th>\n",
       "      <td>Male</td>\n",
       "      <td>No</td>\n",
       "      <td>0.0</td>\n",
       "      <td>Graduate</td>\n",
       "      <td>No</td>\n",
       "      <td>5849</td>\n",
       "      <td>0.0</td>\n",
       "      <td>NaN</td>\n",
       "      <td>360.0</td>\n",
       "      <td>1.0</td>\n",
       "      <td>Urban</td>\n",
       "      <td>Y</td>\n",
       "    </tr>\n",
       "    <tr>\n",
       "      <th>1</th>\n",
       "      <td>Male</td>\n",
       "      <td>Yes</td>\n",
       "      <td>1.0</td>\n",
       "      <td>Graduate</td>\n",
       "      <td>No</td>\n",
       "      <td>4583</td>\n",
       "      <td>1508.0</td>\n",
       "      <td>128.0</td>\n",
       "      <td>360.0</td>\n",
       "      <td>1.0</td>\n",
       "      <td>Rural</td>\n",
       "      <td>N</td>\n",
       "    </tr>\n",
       "    <tr>\n",
       "      <th>2</th>\n",
       "      <td>Male</td>\n",
       "      <td>Yes</td>\n",
       "      <td>0.0</td>\n",
       "      <td>Graduate</td>\n",
       "      <td>Yes</td>\n",
       "      <td>3000</td>\n",
       "      <td>0.0</td>\n",
       "      <td>66.0</td>\n",
       "      <td>360.0</td>\n",
       "      <td>1.0</td>\n",
       "      <td>Urban</td>\n",
       "      <td>Y</td>\n",
       "    </tr>\n",
       "    <tr>\n",
       "      <th>3</th>\n",
       "      <td>Male</td>\n",
       "      <td>Yes</td>\n",
       "      <td>0.0</td>\n",
       "      <td>Not Graduate</td>\n",
       "      <td>No</td>\n",
       "      <td>2583</td>\n",
       "      <td>2358.0</td>\n",
       "      <td>120.0</td>\n",
       "      <td>360.0</td>\n",
       "      <td>1.0</td>\n",
       "      <td>Urban</td>\n",
       "      <td>Y</td>\n",
       "    </tr>\n",
       "    <tr>\n",
       "      <th>4</th>\n",
       "      <td>Male</td>\n",
       "      <td>No</td>\n",
       "      <td>0.0</td>\n",
       "      <td>Graduate</td>\n",
       "      <td>No</td>\n",
       "      <td>6000</td>\n",
       "      <td>0.0</td>\n",
       "      <td>141.0</td>\n",
       "      <td>360.0</td>\n",
       "      <td>1.0</td>\n",
       "      <td>Urban</td>\n",
       "      <td>Y</td>\n",
       "    </tr>\n",
       "  </tbody>\n",
       "</table>\n",
       "</div>"
      ],
      "text/plain": [
       "  Gender Married  Dependents     Education Self_Employed  ApplicantIncome  \\\n",
       "0   Male      No         0.0      Graduate            No             5849   \n",
       "1   Male     Yes         1.0      Graduate            No             4583   \n",
       "2   Male     Yes         0.0      Graduate           Yes             3000   \n",
       "3   Male     Yes         0.0  Not Graduate            No             2583   \n",
       "4   Male      No         0.0      Graduate            No             6000   \n",
       "\n",
       "   CoapplicantIncome  LoanAmount  Loan_Amount_Term  Credit_History  \\\n",
       "0                0.0         NaN             360.0             1.0   \n",
       "1             1508.0       128.0             360.0             1.0   \n",
       "2                0.0        66.0             360.0             1.0   \n",
       "3             2358.0       120.0             360.0             1.0   \n",
       "4                0.0       141.0             360.0             1.0   \n",
       "\n",
       "  Property_Area Loan_Status  \n",
       "0         Urban           Y  \n",
       "1         Rural           N  \n",
       "2         Urban           Y  \n",
       "3         Urban           Y  \n",
       "4         Urban           Y  "
      ]
     },
     "execution_count": 5,
     "metadata": {},
     "output_type": "execute_result"
    }
   ],
   "source": [
    "df.drop(columns=[\"Loan_ID\"], inplace=True)\n",
    "df.head()"
   ]
  },
  {
   "cell_type": "markdown",
   "id": "ambient-marshall",
   "metadata": {
    "papermill": {
     "duration": 0.032748,
     "end_time": "2021-05-11T07:59:13.376982",
     "exception": false,
     "start_time": "2021-05-11T07:59:13.344234",
     "status": "completed"
    },
    "tags": []
   },
   "source": [
    "### Step 3 - Identifying NULL Values (if any)\n",
    "We will be replacing NA values with mean or mode values of the variable"
   ]
  },
  {
   "cell_type": "code",
   "execution_count": 6,
   "id": "banner-carnival",
   "metadata": {
    "execution": {
     "iopub.execute_input": "2021-05-11T07:59:13.452479Z",
     "iopub.status.busy": "2021-05-11T07:59:13.451459Z",
     "iopub.status.idle": "2021-05-11T07:59:13.456082Z",
     "shell.execute_reply": "2021-05-11T07:59:13.455533Z"
    },
    "papermill": {
     "duration": 0.046384,
     "end_time": "2021-05-11T07:59:13.456237",
     "exception": false,
     "start_time": "2021-05-11T07:59:13.409853",
     "status": "completed"
    },
    "tags": []
   },
   "outputs": [
    {
     "data": {
      "text/plain": [
       "Gender               24\n",
       "Married               3\n",
       "Dependents           25\n",
       "Education             0\n",
       "Self_Employed        55\n",
       "ApplicantIncome       0\n",
       "CoapplicantIncome     0\n",
       "LoanAmount           27\n",
       "Loan_Amount_Term     20\n",
       "Credit_History       79\n",
       "Property_Area         0\n",
       "Loan_Status           0\n",
       "dtype: int64"
      ]
     },
     "execution_count": 6,
     "metadata": {},
     "output_type": "execute_result"
    }
   ],
   "source": [
    "df.isna().sum()"
   ]
  },
  {
   "cell_type": "code",
   "execution_count": 7,
   "id": "infectious-contest",
   "metadata": {
    "execution": {
     "iopub.execute_input": "2021-05-11T07:59:13.536875Z",
     "iopub.status.busy": "2021-05-11T07:59:13.532965Z",
     "iopub.status.idle": "2021-05-11T07:59:13.542433Z",
     "shell.execute_reply": "2021-05-11T07:59:13.541703Z"
    },
    "papermill": {
     "duration": 0.053624,
     "end_time": "2021-05-11T07:59:13.542590",
     "exception": false,
     "start_time": "2021-05-11T07:59:13.488966",
     "status": "completed"
    },
    "tags": []
   },
   "outputs": [
    {
     "data": {
      "text/plain": [
       "Gender               0\n",
       "Married              0\n",
       "Dependents           0\n",
       "Education            0\n",
       "Self_Employed        0\n",
       "ApplicantIncome      0\n",
       "CoapplicantIncome    0\n",
       "LoanAmount           0\n",
       "Loan_Amount_Term     0\n",
       "Credit_History       0\n",
       "Property_Area        0\n",
       "Loan_Status          0\n",
       "dtype: int64"
      ]
     },
     "execution_count": 7,
     "metadata": {},
     "output_type": "execute_result"
    }
   ],
   "source": [
    "# Replacing NA values with mean/mode values\n",
    "df.Gender.fillna(\"Male\", inplace=True)\n",
    "df.Married.fillna(\"No\", inplace=True)\n",
    "df.Dependents.fillna(0, inplace=True)\n",
    "df.Self_Employed.fillna(\"No\", inplace=True)\n",
    "df.LoanAmount.fillna(df.LoanAmount.mean(), inplace=True)\n",
    "df.Credit_History.fillna(1, inplace=True)\n",
    "df.Loan_Amount_Term.fillna(df.Loan_Amount_Term.mean(), inplace=True)\n",
    "\n",
    "df.isna().sum()"
   ]
  },
  {
   "cell_type": "markdown",
   "id": "classical-electronics",
   "metadata": {
    "papermill": {
     "duration": 0.029768,
     "end_time": "2021-05-11T07:59:13.605470",
     "exception": false,
     "start_time": "2021-05-11T07:59:13.575702",
     "status": "completed"
    },
    "tags": []
   },
   "source": [
    "### Step 4 - Exploratory Data Analysis"
   ]
  },
  {
   "cell_type": "markdown",
   "id": "revolutionary-holocaust",
   "metadata": {
    "papermill": {
     "duration": 0.029541,
     "end_time": "2021-05-11T07:59:13.666152",
     "exception": false,
     "start_time": "2021-05-11T07:59:13.636611",
     "status": "completed"
    },
    "tags": []
   },
   "source": [
    "#### What is the average Loan Amount for an Average Salary person?"
   ]
  },
  {
   "cell_type": "code",
   "execution_count": 8,
   "id": "urban-commitment",
   "metadata": {
    "execution": {
     "iopub.execute_input": "2021-05-11T07:59:13.733915Z",
     "iopub.status.busy": "2021-05-11T07:59:13.733101Z",
     "iopub.status.idle": "2021-05-11T07:59:13.737478Z",
     "shell.execute_reply": "2021-05-11T07:59:13.736856Z"
    },
    "papermill": {
     "duration": 0.041253,
     "end_time": "2021-05-11T07:59:13.737616",
     "exception": false,
     "start_time": "2021-05-11T07:59:13.696363",
     "status": "completed"
    },
    "tags": []
   },
   "outputs": [
    {
     "name": "stdout",
     "output_type": "stream",
     "text": [
      "A person having average Salary of $5180 takes an average Loan of amount: $143K with an average tenure of 29 years\n"
     ]
    }
   ],
   "source": [
    "mean_income = int(round(df[\"ApplicantIncome\"].mean(), 0))\n",
    "mean_salary = int(round(df[\"LoanAmount\"].mean(), 0))\n",
    "mean_loan_tenure = int(round(df[\"Loan_Amount_Term\"].mean() / 12, 0))\n",
    "\n",
    "print(\"A person having average Salary of ${0} takes an average Loan of amount: ${1}K with an average tenure of {2} years\".format(mean_income, mean_salary, mean_loan_tenure))"
   ]
  },
  {
   "cell_type": "markdown",
   "id": "backed-option",
   "metadata": {
    "papermill": {
     "duration": 0.032044,
     "end_time": "2021-05-11T07:59:13.800071",
     "exception": false,
     "start_time": "2021-05-11T07:59:13.768027",
     "status": "completed"
    },
    "tags": []
   },
   "source": [
    "#### What is the average salary of Employees Area wise - Urban/Rural/SemiUrban?"
   ]
  },
  {
   "cell_type": "code",
   "execution_count": 9,
   "id": "further-present",
   "metadata": {
    "execution": {
     "iopub.execute_input": "2021-05-11T07:59:13.889944Z",
     "iopub.status.busy": "2021-05-11T07:59:13.889202Z",
     "iopub.status.idle": "2021-05-11T07:59:14.194793Z",
     "shell.execute_reply": "2021-05-11T07:59:14.193973Z"
    },
    "papermill": {
     "duration": 0.35962,
     "end_time": "2021-05-11T07:59:14.194956",
     "exception": false,
     "start_time": "2021-05-11T07:59:13.835336",
     "status": "completed"
    },
    "tags": []
   },
   "outputs": [
    {
     "data": {
      "image/png": "[encoded data removed]",
      "text/plain": [
       "<Figure size 720x360 with 1 Axes>"
      ]
     },
     "metadata": {
      "needs_background": "light"
     },
     "output_type": "display_data"
    }
   ],
   "source": [
    "plt.figure(figsize=(10, 5))\n",
    "plt.title(\"There is no such variability in income of people for different property areas\")\n",
    "sns.barplot(y=df[\"ApplicantIncome\"], x=df[\"Property_Area\"], estimator=np.mean)\n",
    "plt.show()"
   ]
  },
  {
   "cell_type": "markdown",
   "id": "acknowledged-player",
   "metadata": {
    "papermill": {
     "duration": 0.032125,
     "end_time": "2021-05-11T07:59:14.261970",
     "exception": false,
     "start_time": "2021-05-11T07:59:14.229845",
     "status": "completed"
    },
    "tags": []
   },
   "source": [
    "#### People from which area have more higher-than-average salaries?\n",
    "More semi-urban people have higher than average salaries. Urban areas have less population having higher-than-average salaries as compared to semi-urban. One reason behind this might be, that semi-urban regions have higher possibilities of establishing new businesses, which in turn generates more income."
   ]
  },
  {
   "cell_type": "code",
   "execution_count": 10,
   "id": "focal-specific",
   "metadata": {
    "execution": {
     "iopub.execute_input": "2021-05-11T07:59:14.361620Z",
     "iopub.status.busy": "2021-05-11T07:59:14.360019Z",
     "iopub.status.idle": "2021-05-11T07:59:14.578491Z",
     "shell.execute_reply": "2021-05-11T07:59:14.577745Z"
    },
    "papermill": {
     "duration": 0.285094,
     "end_time": "2021-05-11T07:59:14.578640",
     "exception": false,
     "start_time": "2021-05-11T07:59:14.293546",
     "status": "completed"
    },
    "tags": []
   },
   "outputs": [
    {
     "data": {
      "image/png": "[encoded data removed]",
      "text/plain": [
       "<Figure size 1080x504 with 1 Axes>"
      ]
     },
     "metadata": {
      "needs_background": "light"
     },
     "output_type": "display_data"
    }
   ],
   "source": [
    "plt.figure(figsize=(15, 7))\n",
    "plt.title(\"More semi-urban people have higher than average salaries\")\n",
    "sns.boxplot(x=df[\"ApplicantIncome\"], y=df[\"Property_Area\"])\n",
    "plt.show()"
   ]
  },
  {
   "cell_type": "markdown",
   "id": "relevant-paradise",
   "metadata": {
    "papermill": {
     "duration": 0.032232,
     "end_time": "2021-05-11T07:59:14.643654",
     "exception": false,
     "start_time": "2021-05-11T07:59:14.611422",
     "status": "completed"
    },
    "tags": []
   },
   "source": [
    "#### Which Area's population has a tendency to take more loans?\n",
    "Urban & Semi-Urban population has more tendency to take bank loans. \n",
    "<br> Possible reasons for this might be -\n",
    "<br>\n",
    "1) The cost of living in urban areas is higher than rural areas. Also, materialistic love is observed more in cities as compared to people living in rural areas. Naturally people tend to take loans to buy new stuff every time.\n",
    "<br>\n",
    "2) In rural areas, most of the people are illiterate. Hence, if not from banks, they take loans from Informal sectors, considering the amount of EMI they might have to pay on a monthly basis under stricter laws. Also, many Informal sectors provide loans based or property mortgage ignoring their loan eligibility like banks do."
   ]
  },
  {
   "cell_type": "code",
   "execution_count": 11,
   "id": "perceived-monaco",
   "metadata": {
    "execution": {
     "iopub.execute_input": "2021-05-11T07:59:14.740557Z",
     "iopub.status.busy": "2021-05-11T07:59:14.715202Z",
     "iopub.status.idle": "2021-05-11T07:59:15.004705Z",
     "shell.execute_reply": "2021-05-11T07:59:15.003907Z"
    },
    "papermill": {
     "duration": 0.328661,
     "end_time": "2021-05-11T07:59:15.004867",
     "exception": false,
     "start_time": "2021-05-11T07:59:14.676206",
     "status": "completed"
    },
    "tags": []
   },
   "outputs": [
    {
     "data": {
      "image/png": "[encoded data removed]",
      "text/plain": [
       "<Figure size 576x360 with 1 Axes>"
      ]
     },
     "metadata": {
      "needs_background": "light"
     },
     "output_type": "display_data"
    }
   ],
   "source": [
    "plt.figure(figsize=(8, 5))\n",
    "plt.title(\"Urban & Semi-Urban population has more tendency to take loans\")\n",
    "sns.barplot(x=df[\"Property_Area\"], y=df[\"Credit_History\"], estimator=np.sum)\n",
    "plt.show()"
   ]
  },
  {
   "cell_type": "markdown",
   "id": "rising-finnish",
   "metadata": {
    "papermill": {
     "duration": 0.037362,
     "end_time": "2021-05-11T07:59:15.078147",
     "exception": false,
     "start_time": "2021-05-11T07:59:15.040785",
     "status": "completed"
    },
    "tags": []
   },
   "source": [
    "#### Is there a possibility that Graduates earn more than Non-Graduates? If so, in which region?\n",
    "It is obvious from the graph below, that Graduates earn more than non-graduates. However, looking region-wise, if a person is non-graduate, then he/she has higher possibilities of getting more income in rural areas. This visualization also in a way, supports our above claim i.e. Rural populations take less loans from Banks, since they are not so well educated. There is a potential market for new bank clients in rural areas, if the population gets decent education."
   ]
  },
  {
   "cell_type": "code",
   "execution_count": 12,
   "id": "caroline-teddy",
   "metadata": {
    "execution": {
     "iopub.execute_input": "2021-05-11T07:59:15.344813Z",
     "iopub.status.busy": "2021-05-11T07:59:15.333830Z",
     "iopub.status.idle": "2021-05-11T07:59:15.788180Z",
     "shell.execute_reply": "2021-05-11T07:59:15.787541Z"
    },
    "papermill": {
     "duration": 0.670654,
     "end_time": "2021-05-11T07:59:15.788351",
     "exception": false,
     "start_time": "2021-05-11T07:59:15.117697",
     "status": "completed"
    },
    "tags": []
   },
   "outputs": [
    {
     "data": {
      "image/png": "[encoded data removed]",
      "text/plain": [
       "<Figure size 720x360 with 1 Axes>"
      ]
     },
     "metadata": {
      "needs_background": "light"
     },
     "output_type": "display_data"
    }
   ],
   "source": [
    "plt.figure(figsize=(10, 5))\n",
    "plt.title(\"Graduate Degree pays big bucks\")\n",
    "sns.barplot(x=df[\"Education\"], y=df[\"ApplicantIncome\"], hue=df[\"Property_Area\"], estimator=np.mean)\n",
    "plt.show()"
   ]
  },
  {
   "cell_type": "markdown",
   "id": "crucial-reputation",
   "metadata": {
    "papermill": {
     "duration": 0.036543,
     "end_time": "2021-05-11T07:59:15.859704",
     "exception": false,
     "start_time": "2021-05-11T07:59:15.823161",
     "status": "completed"
    },
    "tags": []
   },
   "source": [
    "#### Do Self-Employed people need more Loans than Employed people?\n",
    "Yes. More self employed people take loans as compared to employed people. Employed people having income less than 20K, take  loans, but their count is not as much as self-employed people having similar income range. \n",
    "<br>\n",
    "Surprisingly, once self-employed people start earning more than 20K, their chances of taking bank loans, starts diminishing. This is where banks lose their customers. On the other hand, banks have higher chances to retain employed customers, as some of them tend to take loans, even after their salary extends 20K."
   ]
  },
  {
   "cell_type": "code",
   "execution_count": 13,
   "id": "proprietary-devil",
   "metadata": {
    "execution": {
     "iopub.execute_input": "2021-05-11T07:59:15.954343Z",
     "iopub.status.busy": "2021-05-11T07:59:15.953134Z",
     "iopub.status.idle": "2021-05-11T07:59:16.194888Z",
     "shell.execute_reply": "2021-05-11T07:59:16.194322Z"
    },
    "papermill": {
     "duration": 0.300124,
     "end_time": "2021-05-11T07:59:16.195042",
     "exception": false,
     "start_time": "2021-05-11T07:59:15.894918",
     "status": "completed"
    },
    "tags": []
   },
   "outputs": [
    {
     "data": {
      "image/png": "[encoded data removed]",
      "text/plain": [
       "<Figure size 720x360 with 1 Axes>"
      ]
     },
     "metadata": {
      "needs_background": "light"
     },
     "output_type": "display_data"
    }
   ],
   "source": [
    "plt.figure(figsize=(10, 5))\n",
    "plt.title(\"Yes. Self Employed people need more Loans\")\n",
    "sns.violinplot(x=df[\"Self_Employed\"], y=df[\"ApplicantIncome\"], estimator=np.mean, palette=\"Set1\")\n",
    "plt.show()"
   ]
  },
  {
   "cell_type": "markdown",
   "id": "hydraulic-living",
   "metadata": {
    "papermill": {
     "duration": 0.035662,
     "end_time": "2021-05-11T07:59:16.266620",
     "exception": false,
     "start_time": "2021-05-11T07:59:16.230958",
     "status": "completed"
    },
    "tags": []
   },
   "source": [
    "#### Who is an ideal customer for the bank?\n",
    "\n",
    "Married men, who are employed graduates, living in Semiurban areas, are the most ideal customers for the bank. They show the most confidence of repaying loans with minimal credit risk"
   ]
  },
  {
   "cell_type": "code",
   "execution_count": 14,
   "id": "dietary-stranger",
   "metadata": {
    "execution": {
     "iopub.execute_input": "2021-05-11T07:59:16.371713Z",
     "iopub.status.busy": "2021-05-11T07:59:16.370698Z",
     "iopub.status.idle": "2021-05-11T07:59:16.376520Z",
     "shell.execute_reply": "2021-05-11T07:59:16.375769Z"
    },
    "papermill": {
     "duration": 0.074284,
     "end_time": "2021-05-11T07:59:16.376663",
     "exception": false,
     "start_time": "2021-05-11T07:59:16.302379",
     "status": "completed"
    },
    "tags": []
   },
   "outputs": [
    {
     "data": {
      "text/html": [
       "<div>\n",
       "<style scoped>\n",
       "    .dataframe tbody tr th:only-of-type {\n",
       "        vertical-align: middle;\n",
       "    }\n",
       "\n",
       "    .dataframe tbody tr th {\n",
       "        vertical-align: top;\n",
       "    }\n",
       "\n",
       "    .dataframe thead th {\n",
       "        text-align: right;\n",
       "    }\n",
       "</style>\n",
       "<table border=\"1\" class=\"dataframe\">\n",
       "  <thead>\n",
       "    <tr style=\"text-align: right;\">\n",
       "      <th></th>\n",
       "      <th>Property_Area</th>\n",
       "      <th>Education</th>\n",
       "      <th>Self_Employed</th>\n",
       "      <th>Marital_Status</th>\n",
       "      <th>Gender</th>\n",
       "    </tr>\n",
       "  </thead>\n",
       "  <tbody>\n",
       "    <tr>\n",
       "      <th>0</th>\n",
       "      <td>Semiurban</td>\n",
       "      <td>Graduate</td>\n",
       "      <td>No</td>\n",
       "      <td>Yes</td>\n",
       "      <td>Male</td>\n",
       "    </tr>\n",
       "  </tbody>\n",
       "</table>\n",
       "</div>"
      ],
      "text/plain": [
       "  Property_Area Education Self_Employed Marital_Status Gender\n",
       "0     Semiurban  Graduate            No            Yes   Male"
      ]
     },
     "execution_count": 14,
     "metadata": {},
     "output_type": "execute_result"
    }
   ],
   "source": [
    "temp_df = df[df['Loan_Status'] == \"Y\"]\n",
    "temp_df.shape\n",
    "\n",
    "# Capture our Target Area based on highest no. of customers who have chances of loan repayment\n",
    "area_wise_loan_confidence = temp_df[\"Property_Area\"].value_counts().to_frame()\n",
    "target_area = area_wise_loan_confidence.index[0]\n",
    "\n",
    "# Check which gender person has more confidence in taking a loan\n",
    "temp_df = temp_df[temp_df[\"Property_Area\"] == target_area]\n",
    "gender_wise_loan_confidence = temp_df[\"Gender\"].value_counts().to_frame()\n",
    "target_gender = gender_wise_loan_confidence.index[0]\n",
    "\n",
    "# Check which marital status has more confidence in taking a loan\n",
    "temp_df = temp_df[temp_df[\"Gender\"] == target_gender]\n",
    "marital_status_wise_loan_confidence = temp_df[\"Married\"].value_counts().to_frame()\n",
    "marital_status_wise_loan_confidence.head()\n",
    "target_marital_status = marital_status_wise_loan_confidence.index[0]\n",
    "\n",
    "# Check whether self-employed people have more confidence in taking a loan\n",
    "temp_df = temp_df[temp_df[\"Married\"] == target_marital_status]\n",
    "employement_wise_loan_confidence = temp_df[\"Self_Employed\"].value_counts().to_frame()\n",
    "target_employment_status = employement_wise_loan_confidence.index[0]\n",
    "\n",
    "# Check whether these employed people are graduates/non-graduates\n",
    "temp_df = temp_df[temp_df[\"Self_Employed\"] == target_employment_status]\n",
    "education_wise_loan_confidence = temp_df[\"Education\"].value_counts().to_frame()\n",
    "target_education_status = education_wise_loan_confidence.index[0]\n",
    "\n",
    "ideal_candidate_df = pd.DataFrame({\n",
    "    \"Property_Area\": target_area,\n",
    "    \"Education\": target_education_status,\n",
    "    \"Self_Employed\": target_employment_status,\n",
    "    \"Marital_Status\": target_marital_status,\n",
    "    \"Gender\": target_gender\n",
    "}, index=[0])\n",
    "\n",
    "ideal_candidate_df.head()"
   ]
  },
  {
   "cell_type": "markdown",
   "id": "popular-favor",
   "metadata": {
    "papermill": {
     "duration": 0.035849,
     "end_time": "2021-05-11T07:59:16.448704",
     "exception": false,
     "start_time": "2021-05-11T07:59:16.412855",
     "status": "completed"
    },
    "tags": []
   },
   "source": [
    "### Step 4 - Performing Hot Encoding on Data\n",
    "This helps in converting categorical values to numerical values"
   ]
  },
  {
   "cell_type": "code",
   "execution_count": 15,
   "id": "colored-trailer",
   "metadata": {
    "execution": {
     "iopub.execute_input": "2021-05-11T07:59:16.528784Z",
     "iopub.status.busy": "2021-05-11T07:59:16.528050Z",
     "iopub.status.idle": "2021-05-11T07:59:16.697977Z",
     "shell.execute_reply": "2021-05-11T07:59:16.696915Z"
    },
    "papermill": {
     "duration": 0.213521,
     "end_time": "2021-05-11T07:59:16.698145",
     "exception": false,
     "start_time": "2021-05-11T07:59:16.484624",
     "status": "completed"
    },
    "tags": []
   },
   "outputs": [
    {
     "data": {
      "text/html": [
       "<div>\n",
       "<style scoped>\n",
       "    .dataframe tbody tr th:only-of-type {\n",
       "        vertical-align: middle;\n",
       "    }\n",
       "\n",
       "    .dataframe tbody tr th {\n",
       "        vertical-align: top;\n",
       "    }\n",
       "\n",
       "    .dataframe thead th {\n",
       "        text-align: right;\n",
       "    }\n",
       "</style>\n",
       "<table border=\"1\" class=\"dataframe\">\n",
       "  <thead>\n",
       "    <tr style=\"text-align: right;\">\n",
       "      <th></th>\n",
       "      <th>Gender</th>\n",
       "      <th>Married</th>\n",
       "      <th>Dependents</th>\n",
       "      <th>Education</th>\n",
       "      <th>Self_Employed</th>\n",
       "      <th>ApplicantIncome</th>\n",
       "      <th>CoapplicantIncome</th>\n",
       "      <th>LoanAmount</th>\n",
       "      <th>Loan_Amount_Term</th>\n",
       "      <th>Credit_History</th>\n",
       "      <th>Property_Area</th>\n",
       "      <th>Loan_Status</th>\n",
       "    </tr>\n",
       "  </thead>\n",
       "  <tbody>\n",
       "    <tr>\n",
       "      <th>0</th>\n",
       "      <td>1</td>\n",
       "      <td>0</td>\n",
       "      <td>0.0</td>\n",
       "      <td>0</td>\n",
       "      <td>0</td>\n",
       "      <td>5849</td>\n",
       "      <td>0.0</td>\n",
       "      <td>142.51153</td>\n",
       "      <td>360.0</td>\n",
       "      <td>1.0</td>\n",
       "      <td>2</td>\n",
       "      <td>1</td>\n",
       "    </tr>\n",
       "    <tr>\n",
       "      <th>1</th>\n",
       "      <td>1</td>\n",
       "      <td>1</td>\n",
       "      <td>1.0</td>\n",
       "      <td>0</td>\n",
       "      <td>0</td>\n",
       "      <td>4583</td>\n",
       "      <td>1508.0</td>\n",
       "      <td>128.00000</td>\n",
       "      <td>360.0</td>\n",
       "      <td>1.0</td>\n",
       "      <td>0</td>\n",
       "      <td>0</td>\n",
       "    </tr>\n",
       "    <tr>\n",
       "      <th>2</th>\n",
       "      <td>1</td>\n",
       "      <td>1</td>\n",
       "      <td>0.0</td>\n",
       "      <td>0</td>\n",
       "      <td>1</td>\n",
       "      <td>3000</td>\n",
       "      <td>0.0</td>\n",
       "      <td>66.00000</td>\n",
       "      <td>360.0</td>\n",
       "      <td>1.0</td>\n",
       "      <td>2</td>\n",
       "      <td>1</td>\n",
       "    </tr>\n",
       "    <tr>\n",
       "      <th>3</th>\n",
       "      <td>1</td>\n",
       "      <td>1</td>\n",
       "      <td>0.0</td>\n",
       "      <td>1</td>\n",
       "      <td>0</td>\n",
       "      <td>2583</td>\n",
       "      <td>2358.0</td>\n",
       "      <td>120.00000</td>\n",
       "      <td>360.0</td>\n",
       "      <td>1.0</td>\n",
       "      <td>2</td>\n",
       "      <td>1</td>\n",
       "    </tr>\n",
       "    <tr>\n",
       "      <th>4</th>\n",
       "      <td>1</td>\n",
       "      <td>0</td>\n",
       "      <td>0.0</td>\n",
       "      <td>0</td>\n",
       "      <td>0</td>\n",
       "      <td>6000</td>\n",
       "      <td>0.0</td>\n",
       "      <td>141.00000</td>\n",
       "      <td>360.0</td>\n",
       "      <td>1.0</td>\n",
       "      <td>2</td>\n",
       "      <td>1</td>\n",
       "    </tr>\n",
       "  </tbody>\n",
       "</table>\n",
       "</div>"
      ],
      "text/plain": [
       "   Gender  Married  Dependents  Education  Self_Employed  ApplicantIncome  \\\n",
       "0       1        0         0.0          0              0             5849   \n",
       "1       1        1         1.0          0              0             4583   \n",
       "2       1        1         0.0          0              1             3000   \n",
       "3       1        1         0.0          1              0             2583   \n",
       "4       1        0         0.0          0              0             6000   \n",
       "\n",
       "   CoapplicantIncome  LoanAmount  Loan_Amount_Term  Credit_History  \\\n",
       "0                0.0   142.51153             360.0             1.0   \n",
       "1             1508.0   128.00000             360.0             1.0   \n",
       "2                0.0    66.00000             360.0             1.0   \n",
       "3             2358.0   120.00000             360.0             1.0   \n",
       "4                0.0   141.00000             360.0             1.0   \n",
       "\n",
       "   Property_Area  Loan_Status  \n",
       "0              2            1  \n",
       "1              0            0  \n",
       "2              2            1  \n",
       "3              2            1  \n",
       "4              2            1  "
      ]
     },
     "execution_count": 15,
     "metadata": {},
     "output_type": "execute_result"
    }
   ],
   "source": [
    "from sklearn.preprocessing import LabelEncoder\n",
    "le = LabelEncoder()\n",
    "\n",
    "df[\"Gender\"] = le.fit_transform(df[\"Gender\"])\n",
    "df[\"Married\"] = le.fit_transform(df[\"Married\"])\n",
    "df[\"Education\"] = le.fit_transform(df[\"Education\"])\n",
    "df[\"Self_Employed\"] = le.fit_transform(df[\"Self_Employed\"])\n",
    "df[\"Property_Area\"] = le.fit_transform(df[\"Property_Area\"])\n",
    "df[\"Loan_Status\"] = le.fit_transform(df[\"Loan_Status\"])\n",
    "\n",
    "df.head()"
   ]
  },
  {
   "cell_type": "markdown",
   "id": "lightweight-spring",
   "metadata": {
    "papermill": {
     "duration": 0.037364,
     "end_time": "2021-05-11T07:59:16.772549",
     "exception": false,
     "start_time": "2021-05-11T07:59:16.735185",
     "status": "completed"
    },
    "tags": []
   },
   "source": [
    "### Step 5 - Splitting Train Test data"
   ]
  },
  {
   "cell_type": "code",
   "execution_count": 16,
   "id": "magnetic-virgin",
   "metadata": {
    "execution": {
     "iopub.execute_input": "2021-05-11T07:59:16.859376Z",
     "iopub.status.busy": "2021-05-11T07:59:16.858336Z",
     "iopub.status.idle": "2021-05-11T07:59:16.862008Z",
     "shell.execute_reply": "2021-05-11T07:59:16.861457Z"
    },
    "papermill": {
     "duration": 0.05193,
     "end_time": "2021-05-11T07:59:16.862145",
     "exception": false,
     "start_time": "2021-05-11T07:59:16.810215",
     "status": "completed"
    },
    "tags": []
   },
   "outputs": [],
   "source": [
    "x = df.iloc[:, 0:11]  # Take all columns except Target variable in 'x' dataframe\n",
    "y = df.iloc[:, 11]    # Take only target variable in 'y'"
   ]
  },
  {
   "cell_type": "code",
   "execution_count": 17,
   "id": "divided-lithuania",
   "metadata": {
    "execution": {
     "iopub.execute_input": "2021-05-11T07:59:16.955281Z",
     "iopub.status.busy": "2021-05-11T07:59:16.941596Z",
     "iopub.status.idle": "2021-05-11T07:59:16.959388Z",
     "shell.execute_reply": "2021-05-11T07:59:16.959864Z"
    },
    "papermill": {
     "duration": 0.061076,
     "end_time": "2021-05-11T07:59:16.960054",
     "exception": false,
     "start_time": "2021-05-11T07:59:16.898978",
     "status": "completed"
    },
    "tags": []
   },
   "outputs": [
    {
     "data": {
      "text/html": [
       "<div>\n",
       "<style scoped>\n",
       "    .dataframe tbody tr th:only-of-type {\n",
       "        vertical-align: middle;\n",
       "    }\n",
       "\n",
       "    .dataframe tbody tr th {\n",
       "        vertical-align: top;\n",
       "    }\n",
       "\n",
       "    .dataframe thead th {\n",
       "        text-align: right;\n",
       "    }\n",
       "</style>\n",
       "<table border=\"1\" class=\"dataframe\">\n",
       "  <thead>\n",
       "    <tr style=\"text-align: right;\">\n",
       "      <th></th>\n",
       "      <th>Gender</th>\n",
       "      <th>Married</th>\n",
       "      <th>Dependents</th>\n",
       "      <th>Education</th>\n",
       "      <th>Self_Employed</th>\n",
       "      <th>ApplicantIncome</th>\n",
       "      <th>CoapplicantIncome</th>\n",
       "      <th>LoanAmount</th>\n",
       "      <th>Loan_Amount_Term</th>\n",
       "      <th>Credit_History</th>\n",
       "      <th>Property_Area</th>\n",
       "    </tr>\n",
       "  </thead>\n",
       "  <tbody>\n",
       "    <tr>\n",
       "      <th>0</th>\n",
       "      <td>1</td>\n",
       "      <td>0</td>\n",
       "      <td>0.0</td>\n",
       "      <td>0</td>\n",
       "      <td>0</td>\n",
       "      <td>5849</td>\n",
       "      <td>0.0</td>\n",
       "      <td>142.51153</td>\n",
       "      <td>360.0</td>\n",
       "      <td>1.0</td>\n",
       "      <td>2</td>\n",
       "    </tr>\n",
       "    <tr>\n",
       "      <th>1</th>\n",
       "      <td>1</td>\n",
       "      <td>1</td>\n",
       "      <td>1.0</td>\n",
       "      <td>0</td>\n",
       "      <td>0</td>\n",
       "      <td>4583</td>\n",
       "      <td>1508.0</td>\n",
       "      <td>128.00000</td>\n",
       "      <td>360.0</td>\n",
       "      <td>1.0</td>\n",
       "      <td>0</td>\n",
       "    </tr>\n",
       "    <tr>\n",
       "      <th>2</th>\n",
       "      <td>1</td>\n",
       "      <td>1</td>\n",
       "      <td>0.0</td>\n",
       "      <td>0</td>\n",
       "      <td>1</td>\n",
       "      <td>3000</td>\n",
       "      <td>0.0</td>\n",
       "      <td>66.00000</td>\n",
       "      <td>360.0</td>\n",
       "      <td>1.0</td>\n",
       "      <td>2</td>\n",
       "    </tr>\n",
       "    <tr>\n",
       "      <th>3</th>\n",
       "      <td>1</td>\n",
       "      <td>1</td>\n",
       "      <td>0.0</td>\n",
       "      <td>1</td>\n",
       "      <td>0</td>\n",
       "      <td>2583</td>\n",
       "      <td>2358.0</td>\n",
       "      <td>120.00000</td>\n",
       "      <td>360.0</td>\n",
       "      <td>1.0</td>\n",
       "      <td>2</td>\n",
       "    </tr>\n",
       "    <tr>\n",
       "      <th>4</th>\n",
       "      <td>1</td>\n",
       "      <td>0</td>\n",
       "      <td>0.0</td>\n",
       "      <td>0</td>\n",
       "      <td>0</td>\n",
       "      <td>6000</td>\n",
       "      <td>0.0</td>\n",
       "      <td>141.00000</td>\n",
       "      <td>360.0</td>\n",
       "      <td>1.0</td>\n",
       "      <td>2</td>\n",
       "    </tr>\n",
       "  </tbody>\n",
       "</table>\n",
       "</div>"
      ],
      "text/plain": [
       "   Gender  Married  Dependents  Education  Self_Employed  ApplicantIncome  \\\n",
       "0       1        0         0.0          0              0             5849   \n",
       "1       1        1         1.0          0              0             4583   \n",
       "2       1        1         0.0          0              1             3000   \n",
       "3       1        1         0.0          1              0             2583   \n",
       "4       1        0         0.0          0              0             6000   \n",
       "\n",
       "   CoapplicantIncome  LoanAmount  Loan_Amount_Term  Credit_History  \\\n",
       "0                0.0   142.51153             360.0             1.0   \n",
       "1             1508.0   128.00000             360.0             1.0   \n",
       "2                0.0    66.00000             360.0             1.0   \n",
       "3             2358.0   120.00000             360.0             1.0   \n",
       "4                0.0   141.00000             360.0             1.0   \n",
       "\n",
       "   Property_Area  \n",
       "0              2  \n",
       "1              0  \n",
       "2              2  \n",
       "3              2  \n",
       "4              2  "
      ]
     },
     "execution_count": 17,
     "metadata": {},
     "output_type": "execute_result"
    }
   ],
   "source": [
    "x.head()"
   ]
  },
  {
   "cell_type": "code",
   "execution_count": 18,
   "id": "convertible-louisiana",
   "metadata": {
    "execution": {
     "iopub.execute_input": "2021-05-11T07:59:17.043047Z",
     "iopub.status.busy": "2021-05-11T07:59:17.042315Z",
     "iopub.status.idle": "2021-05-11T07:59:17.046340Z",
     "shell.execute_reply": "2021-05-11T07:59:17.045732Z"
    },
    "papermill": {
     "duration": 0.048176,
     "end_time": "2021-05-11T07:59:17.046483",
     "exception": false,
     "start_time": "2021-05-11T07:59:16.998307",
     "status": "completed"
    },
    "tags": []
   },
   "outputs": [
    {
     "data": {
      "text/plain": [
       "0    1\n",
       "1    0\n",
       "2    1\n",
       "3    1\n",
       "4    1\n",
       "Name: Loan_Status, dtype: int64"
      ]
     },
     "execution_count": 18,
     "metadata": {},
     "output_type": "execute_result"
    }
   ],
   "source": [
    "y.head()"
   ]
  },
  {
   "cell_type": "code",
   "execution_count": 19,
   "id": "painted-perspective",
   "metadata": {
    "execution": {
     "iopub.execute_input": "2021-05-11T07:59:17.126831Z",
     "iopub.status.busy": "2021-05-11T07:59:17.126161Z",
     "iopub.status.idle": "2021-05-11T07:59:17.202451Z",
     "shell.execute_reply": "2021-05-11T07:59:17.202933Z"
    },
    "papermill": {
     "duration": 0.118635,
     "end_time": "2021-05-11T07:59:17.203114",
     "exception": false,
     "start_time": "2021-05-11T07:59:17.084479",
     "status": "completed"
    },
    "tags": []
   },
   "outputs": [],
   "source": [
    "# Perform train-test split\n",
    "# We will be splitting data as 80% in training & 20% in testing. Hence test_size = 0.2\n",
    "\n",
    "from sklearn.model_selection import train_test_split\n",
    "X_train, X_test, y_train, y_test = train_test_split(x, y, test_size = 0.2, random_state = 0)"
   ]
  },
  {
   "cell_type": "code",
   "execution_count": 20,
   "id": "contrary-corpus",
   "metadata": {
    "execution": {
     "iopub.execute_input": "2021-05-11T07:59:17.287337Z",
     "iopub.status.busy": "2021-05-11T07:59:17.286495Z",
     "iopub.status.idle": "2021-05-11T07:59:17.290747Z",
     "shell.execute_reply": "2021-05-11T07:59:17.291247Z"
    },
    "papermill": {
     "duration": 0.04991,
     "end_time": "2021-05-11T07:59:17.291459",
     "exception": false,
     "start_time": "2021-05-11T07:59:17.241549",
     "status": "completed"
    },
    "tags": []
   },
   "outputs": [
    {
     "name": "stdout",
     "output_type": "stream",
     "text": [
      "-----------------------\n",
      "(784, 11)\n",
      "(784,)\n",
      "-----------------------\n",
      "(197, 11)\n",
      "(197,)\n",
      "-----------------------\n"
     ]
    }
   ],
   "source": [
    "print(\"-----------------------\")\n",
    "print(X_train.shape)\n",
    "print(y_train.shape)\n",
    "print(\"-----------------------\")\n",
    "print(X_test.shape)\n",
    "print(y_test.shape)\n",
    "print(\"-----------------------\")"
   ]
  },
  {
   "cell_type": "markdown",
   "id": "encouraging-moisture",
   "metadata": {
    "papermill": {
     "duration": 0.038489,
     "end_time": "2021-05-11T07:59:17.368846",
     "exception": false,
     "start_time": "2021-05-11T07:59:17.330357",
     "status": "completed"
    },
    "tags": []
   },
   "source": [
    "### Step 6 - Model Development\n",
    "We will be using tensorflow library for model development"
   ]
  },
  {
   "cell_type": "code",
   "execution_count": 21,
   "id": "floating-strike",
   "metadata": {
    "execution": {
     "iopub.execute_input": "2021-05-11T07:59:17.453483Z",
     "iopub.status.busy": "2021-05-11T07:59:17.452632Z",
     "iopub.status.idle": "2021-05-11T07:59:17.514088Z",
     "shell.execute_reply": "2021-05-11T07:59:17.513455Z"
    },
    "papermill": {
     "duration": 0.1065,
     "end_time": "2021-05-11T07:59:17.514230",
     "exception": false,
     "start_time": "2021-05-11T07:59:17.407730",
     "status": "completed"
    },
    "tags": []
   },
   "outputs": [],
   "source": [
    "# Initialize Sequential object\n",
    "ann = tf.keras.models.Sequential()\n",
    "\n",
    "# Total no. of Neurons = 6\n",
    "# We will be adding 2 hidden layers in our Neural Network\n",
    "ann.add(tf.keras.layers.Dense(units=6, activation='relu'))\n",
    "ann.add(tf.keras.layers.Dense(units=6, activation='relu'))\n",
    "\n",
    "# Adding Output Later\n",
    "ann.add(tf.keras.layers.Dense(units=1, activation='sigmoid'))\n",
    "\n",
    "# Initializing our Compiler\n",
    "ann.compile(optimizer = 'adam', loss = 'binary_crossentropy', metrics = ['accuracy'])"
   ]
  },
  {
   "cell_type": "code",
   "execution_count": 22,
   "id": "selective-cradle",
   "metadata": {
    "execution": {
     "iopub.execute_input": "2021-05-11T07:59:17.598411Z",
     "iopub.status.busy": "2021-05-11T07:59:17.597725Z",
     "iopub.status.idle": "2021-05-11T07:59:22.214639Z",
     "shell.execute_reply": "2021-05-11T07:59:22.213925Z"
    },
    "papermill": {
     "duration": 4.660685,
     "end_time": "2021-05-11T07:59:22.214794",
     "exception": false,
     "start_time": "2021-05-11T07:59:17.554109",
     "status": "completed"
    },
    "tags": []
   },
   "outputs": [
    {
     "name": "stdout",
     "output_type": "stream",
     "text": [
      "Epoch 1/100\n",
      "25/25 [==============================] - 1s 1ms/step - loss: 729.7500 - accuracy: 0.2882\n",
      "Epoch 2/100\n",
      "25/25 [==============================] - 0s 1ms/step - loss: 421.5288 - accuracy: 0.2817\n",
      "Epoch 3/100\n",
      "25/25 [==============================] - 0s 1ms/step - loss: 168.3278 - accuracy: 0.2897\n",
      "Epoch 4/100\n",
      "25/25 [==============================] - 0s 1ms/step - loss: 26.2236 - accuracy: 0.6951\n",
      "Epoch 5/100\n",
      "25/25 [==============================] - 0s 1ms/step - loss: 9.2507 - accuracy: 0.6667\n",
      "Epoch 6/100\n",
      "25/25 [==============================] - 0s 1ms/step - loss: 9.9595 - accuracy: 0.6446\n",
      "Epoch 7/100\n",
      "25/25 [==============================] - 0s 1ms/step - loss: 7.3305 - accuracy: 0.6425\n",
      "Epoch 8/100\n",
      "25/25 [==============================] - 0s 1ms/step - loss: 4.6807 - accuracy: 0.5920\n",
      "Epoch 9/100\n",
      "25/25 [==============================] - 0s 2ms/step - loss: 4.2336 - accuracy: 0.6695\n",
      "Epoch 10/100\n",
      "25/25 [==============================] - 0s 2ms/step - loss: 3.6611 - accuracy: 0.6076\n",
      "Epoch 11/100\n",
      "25/25 [==============================] - 0s 2ms/step - loss: 3.5466 - accuracy: 0.6494\n",
      "Epoch 12/100\n",
      "25/25 [==============================] - 0s 1ms/step - loss: 2.0142 - accuracy: 0.6109\n",
      "Epoch 13/100\n",
      "25/25 [==============================] - 0s 1ms/step - loss: 2.4360 - accuracy: 0.6685\n",
      "Epoch 14/100\n",
      "25/25 [==============================] - 0s 1ms/step - loss: 2.2162 - accuracy: 0.5796\n",
      "Epoch 15/100\n",
      "25/25 [==============================] - 0s 2ms/step - loss: 1.6999 - accuracy: 0.6057\n",
      "Epoch 16/100\n",
      "25/25 [==============================] - 0s 2ms/step - loss: 1.8183 - accuracy: 0.6421\n",
      "Epoch 17/100\n",
      "25/25 [==============================] - 0s 2ms/step - loss: 1.7256 - accuracy: 0.6182\n",
      "Epoch 18/100\n",
      "25/25 [==============================] - 0s 1ms/step - loss: 2.0535 - accuracy: 0.6713\n",
      "Epoch 19/100\n",
      "25/25 [==============================] - 0s 1ms/step - loss: 1.3835 - accuracy: 0.6452\n",
      "Epoch 20/100\n",
      "25/25 [==============================] - 0s 1ms/step - loss: 1.7989 - accuracy: 0.6261\n",
      "Epoch 21/100\n",
      "25/25 [==============================] - 0s 1ms/step - loss: 1.7397 - accuracy: 0.5936\n",
      "Epoch 22/100\n",
      "25/25 [==============================] - 0s 1ms/step - loss: 2.4592 - accuracy: 0.6279\n",
      "Epoch 23/100\n",
      "25/25 [==============================] - 0s 1ms/step - loss: 1.8974 - accuracy: 0.5507\n",
      "Epoch 24/100\n",
      "25/25 [==============================] - 0s 1ms/step - loss: 1.5965 - accuracy: 0.6053\n",
      "Epoch 25/100\n",
      "25/25 [==============================] - 0s 1ms/step - loss: 1.5623 - accuracy: 0.6645\n",
      "Epoch 26/100\n",
      "25/25 [==============================] - 0s 1ms/step - loss: 1.6103 - accuracy: 0.6595\n",
      "Epoch 27/100\n",
      "25/25 [==============================] - 0s 1ms/step - loss: 1.6694 - accuracy: 0.6085\n",
      "Epoch 28/100\n",
      "25/25 [==============================] - 0s 1ms/step - loss: 1.7573 - accuracy: 0.6001\n",
      "Epoch 29/100\n",
      "25/25 [==============================] - 0s 1ms/step - loss: 1.7350 - accuracy: 0.6254\n",
      "Epoch 30/100\n",
      "25/25 [==============================] - 0s 1ms/step - loss: 1.9547 - accuracy: 0.6652\n",
      "Epoch 31/100\n",
      "25/25 [==============================] - 0s 1ms/step - loss: 1.3625 - accuracy: 0.5918\n",
      "Epoch 32/100\n",
      "25/25 [==============================] - 0s 1ms/step - loss: 1.1183 - accuracy: 0.6706\n",
      "Epoch 33/100\n",
      "25/25 [==============================] - 0s 1ms/step - loss: 1.0950 - accuracy: 0.6379\n",
      "Epoch 34/100\n",
      "25/25 [==============================] - 0s 1ms/step - loss: 0.9351 - accuracy: 0.6942\n",
      "Epoch 35/100\n",
      "25/25 [==============================] - 0s 1ms/step - loss: 1.6118 - accuracy: 0.5838\n",
      "Epoch 36/100\n",
      "25/25 [==============================] - 0s 1ms/step - loss: 0.9223 - accuracy: 0.6543\n",
      "Epoch 37/100\n",
      "25/25 [==============================] - 0s 1ms/step - loss: 1.1258 - accuracy: 0.6628\n",
      "Epoch 38/100\n",
      "25/25 [==============================] - 0s 1ms/step - loss: 1.3108 - accuracy: 0.6088\n",
      "Epoch 39/100\n",
      "25/25 [==============================] - 0s 1ms/step - loss: 1.1416 - accuracy: 0.6340\n",
      "Epoch 40/100\n",
      "25/25 [==============================] - 0s 2ms/step - loss: 0.9637 - accuracy: 0.6748\n",
      "Epoch 41/100\n",
      "25/25 [==============================] - 0s 2ms/step - loss: 1.3750 - accuracy: 0.6703\n",
      "Epoch 42/100\n",
      "25/25 [==============================] - 0s 1ms/step - loss: 0.8572 - accuracy: 0.6497\n",
      "Epoch 43/100\n",
      "25/25 [==============================] - 0s 1ms/step - loss: 1.4215 - accuracy: 0.6477\n",
      "Epoch 44/100\n",
      "25/25 [==============================] - 0s 1ms/step - loss: 1.8489 - accuracy: 0.5975\n",
      "Epoch 45/100\n",
      "25/25 [==============================] - 0s 1ms/step - loss: 2.0780 - accuracy: 0.6352\n",
      "Epoch 46/100\n",
      "25/25 [==============================] - 0s 1ms/step - loss: 1.1883 - accuracy: 0.6530\n",
      "Epoch 47/100\n",
      "25/25 [==============================] - 0s 1ms/step - loss: 0.9821 - accuracy: 0.6451\n",
      "Epoch 48/100\n",
      "25/25 [==============================] - 0s 1ms/step - loss: 2.0287 - accuracy: 0.5525\n",
      "Epoch 49/100\n",
      "25/25 [==============================] - 0s 1ms/step - loss: 1.1948 - accuracy: 0.6285\n",
      "Epoch 50/100\n",
      "25/25 [==============================] - 0s 1ms/step - loss: 0.9003 - accuracy: 0.6029\n",
      "Epoch 51/100\n",
      "25/25 [==============================] - 0s 1ms/step - loss: 1.3256 - accuracy: 0.6614\n",
      "Epoch 52/100\n",
      "25/25 [==============================] - 0s 1ms/step - loss: 1.2472 - accuracy: 0.6290\n",
      "Epoch 53/100\n",
      "25/25 [==============================] - 0s 1ms/step - loss: 0.8749 - accuracy: 0.6762\n",
      "Epoch 54/100\n",
      "25/25 [==============================] - 0s 1ms/step - loss: 0.9321 - accuracy: 0.6720\n",
      "Epoch 55/100\n",
      "25/25 [==============================] - 0s 1ms/step - loss: 0.9813 - accuracy: 0.6554\n",
      "Epoch 56/100\n",
      "25/25 [==============================] - 0s 1ms/step - loss: 1.2834 - accuracy: 0.6554\n",
      "Epoch 57/100\n",
      "25/25 [==============================] - 0s 1ms/step - loss: 1.1117 - accuracy: 0.6755\n",
      "Epoch 58/100\n",
      "25/25 [==============================] - 0s 1ms/step - loss: 0.9684 - accuracy: 0.6524\n",
      "Epoch 59/100\n",
      "25/25 [==============================] - 0s 1ms/step - loss: 1.1436 - accuracy: 0.5962\n",
      "Epoch 60/100\n",
      "25/25 [==============================] - 0s 1ms/step - loss: 0.9170 - accuracy: 0.6932\n",
      "Epoch 61/100\n",
      "25/25 [==============================] - 0s 1ms/step - loss: 1.2764 - accuracy: 0.6641\n",
      "Epoch 62/100\n",
      "25/25 [==============================] - 0s 1ms/step - loss: 1.1027 - accuracy: 0.6300\n",
      "Epoch 63/100\n",
      "25/25 [==============================] - 0s 1ms/step - loss: 0.9872 - accuracy: 0.6362\n",
      "Epoch 64/100\n",
      "25/25 [==============================] - 0s 1ms/step - loss: 1.0212 - accuracy: 0.6927\n",
      "Epoch 65/100\n",
      "25/25 [==============================] - 0s 1ms/step - loss: 0.9502 - accuracy: 0.6429\n",
      "Epoch 66/100\n",
      "25/25 [==============================] - 0s 1ms/step - loss: 0.8076 - accuracy: 0.6681\n",
      "Epoch 67/100\n",
      "25/25 [==============================] - 0s 1ms/step - loss: 0.9232 - accuracy: 0.6407\n",
      "Epoch 68/100\n",
      "25/25 [==============================] - 0s 1ms/step - loss: 1.0507 - accuracy: 0.6826\n",
      "Epoch 69/100\n",
      "25/25 [==============================] - 0s 1ms/step - loss: 0.8810 - accuracy: 0.6515\n",
      "Epoch 70/100\n",
      "25/25 [==============================] - 0s 1ms/step - loss: 1.0953 - accuracy: 0.6616\n",
      "Epoch 71/100\n",
      "25/25 [==============================] - 0s 1ms/step - loss: 0.7863 - accuracy: 0.7168\n",
      "Epoch 72/100\n",
      "25/25 [==============================] - 0s 1ms/step - loss: 0.9405 - accuracy: 0.6346\n",
      "Epoch 73/100\n",
      "25/25 [==============================] - 0s 1ms/step - loss: 0.8751 - accuracy: 0.6576\n",
      "Epoch 74/100\n",
      "25/25 [==============================] - 0s 1ms/step - loss: 0.7608 - accuracy: 0.7113\n",
      "Epoch 75/100\n",
      "25/25 [==============================] - 0s 1ms/step - loss: 1.2262 - accuracy: 0.6490\n",
      "Epoch 76/100\n",
      "25/25 [==============================] - 0s 1ms/step - loss: 1.5861 - accuracy: 0.6537\n",
      "Epoch 77/100\n",
      "25/25 [==============================] - 0s 1ms/step - loss: 0.9986 - accuracy: 0.6096\n",
      "Epoch 78/100\n",
      "25/25 [==============================] - 0s 1ms/step - loss: 0.7689 - accuracy: 0.6578\n",
      "Epoch 79/100\n",
      "25/25 [==============================] - 0s 1ms/step - loss: 1.0500 - accuracy: 0.6007\n",
      "Epoch 80/100\n",
      "25/25 [==============================] - 0s 1ms/step - loss: 1.7196 - accuracy: 0.6581\n",
      "Epoch 81/100\n",
      "25/25 [==============================] - 0s 1ms/step - loss: 1.4466 - accuracy: 0.6573\n",
      "Epoch 82/100\n",
      "25/25 [==============================] - 0s 1ms/step - loss: 1.0593 - accuracy: 0.6720\n",
      "Epoch 83/100\n",
      "25/25 [==============================] - 0s 1ms/step - loss: 0.8976 - accuracy: 0.6554\n",
      "Epoch 84/100\n",
      "25/25 [==============================] - 0s 1ms/step - loss: 1.3365 - accuracy: 0.5941\n",
      "Epoch 85/100\n",
      "25/25 [==============================] - 0s 1ms/step - loss: 1.3961 - accuracy: 0.5889\n",
      "Epoch 86/100\n",
      "25/25 [==============================] - 0s 1ms/step - loss: 0.9840 - accuracy: 0.6558\n",
      "Epoch 87/100\n",
      "25/25 [==============================] - 0s 1ms/step - loss: 0.6754 - accuracy: 0.7251\n",
      "Epoch 88/100\n",
      "25/25 [==============================] - 0s 1ms/step - loss: 0.8230 - accuracy: 0.7162\n",
      "Epoch 89/100\n",
      "25/25 [==============================] - 0s 1ms/step - loss: 1.4596 - accuracy: 0.5674\n",
      "Epoch 90/100\n",
      "25/25 [==============================] - 0s 1ms/step - loss: 1.1084 - accuracy: 0.6202\n",
      "Epoch 91/100\n",
      "25/25 [==============================] - 0s 1ms/step - loss: 0.7678 - accuracy: 0.7346\n",
      "Epoch 92/100\n",
      "25/25 [==============================] - 0s 1ms/step - loss: 0.8820 - accuracy: 0.6560\n",
      "Epoch 93/100\n",
      "25/25 [==============================] - 0s 1ms/step - loss: 1.0755 - accuracy: 0.6417\n",
      "Epoch 94/100\n",
      "25/25 [==============================] - 0s 1ms/step - loss: 0.9253 - accuracy: 0.6768\n",
      "Epoch 95/100\n",
      "25/25 [==============================] - 0s 2ms/step - loss: 0.9261 - accuracy: 0.6275\n",
      "Epoch 96/100\n",
      "25/25 [==============================] - 0s 1ms/step - loss: 0.7133 - accuracy: 0.7260\n",
      "Epoch 97/100\n",
      "25/25 [==============================] - 0s 1ms/step - loss: 2.2563 - accuracy: 0.6004\n",
      "Epoch 98/100\n",
      "25/25 [==============================] - 0s 1ms/step - loss: 0.9885 - accuracy: 0.6826\n",
      "Epoch 99/100\n",
      "25/25 [==============================] - 0s 1ms/step - loss: 0.9178 - accuracy: 0.6902\n",
      "Epoch 100/100\n",
      "25/25 [==============================] - 0s 1ms/step - loss: 1.1459 - accuracy: 0.6169\n"
     ]
    },
    {
     "data": {
      "text/plain": [
       "<tensorflow.python.keras.callbacks.History at 0x7f6e5eec6150>"
      ]
     },
     "execution_count": 22,
     "metadata": {},
     "output_type": "execute_result"
    }
   ],
   "source": [
    "# Train our model\n",
    "ann.fit(X_train, y_train, batch_size=32, epochs=100, verbose=1)"
   ]
  },
  {
   "cell_type": "code",
   "execution_count": 23,
   "id": "handed-florist",
   "metadata": {
    "execution": {
     "iopub.execute_input": "2021-05-11T07:59:22.430862Z",
     "iopub.status.busy": "2021-05-11T07:59:22.429820Z",
     "iopub.status.idle": "2021-05-11T07:59:22.553619Z",
     "shell.execute_reply": "2021-05-11T07:59:22.553040Z"
    },
    "papermill": {
     "duration": 0.234164,
     "end_time": "2021-05-11T07:59:22.553777",
     "exception": false,
     "start_time": "2021-05-11T07:59:22.319613",
     "status": "completed"
    },
    "tags": []
   },
   "outputs": [
    {
     "name": "stdout",
     "output_type": "stream",
     "text": [
      "1\n"
     ]
    }
   ],
   "source": [
    "# 0.5 - Threshold to differentiate between 0 & 1 values\n",
    "# Predict sample data and see if it model predicts properly or not\n",
    "\n",
    "predicted_output = ann.predict([[1, 1, 1, 0, 2, 6000, 1000, 101, 360, 0, 2]])\n",
    "predicted_output = 1 if predicted_output > 0.5 else 0\n",
    "\n",
    "print(predicted_output)  # True i.e. There is a Credit Risk"
   ]
  },
  {
   "cell_type": "markdown",
   "id": "metric-feeding",
   "metadata": {
    "papermill": {
     "duration": 0.104906,
     "end_time": "2021-05-11T07:59:22.762754",
     "exception": false,
     "start_time": "2021-05-11T07:59:22.657848",
     "status": "completed"
    },
    "tags": []
   },
   "source": [
    "### Step 7 - Predicting test data"
   ]
  },
  {
   "cell_type": "code",
   "execution_count": 24,
   "id": "forward-exposure",
   "metadata": {
    "execution": {
     "iopub.execute_input": "2021-05-11T07:59:22.980457Z",
     "iopub.status.busy": "2021-05-11T07:59:22.979281Z",
     "iopub.status.idle": "2021-05-11T07:59:23.077880Z",
     "shell.execute_reply": "2021-05-11T07:59:23.077229Z"
    },
    "papermill": {
     "duration": 0.210483,
     "end_time": "2021-05-11T07:59:23.078043",
     "exception": false,
     "start_time": "2021-05-11T07:59:22.867560",
     "status": "completed"
    },
    "tags": []
   },
   "outputs": [],
   "source": [
    "y_pred = ann.predict(X_test)\n",
    "y_pred = (y_pred > 0.5)   # This will predict output values as 'True' and 'False'"
   ]
  },
  {
   "cell_type": "code",
   "execution_count": 25,
   "id": "about-above",
   "metadata": {
    "execution": {
     "iopub.execute_input": "2021-05-11T07:59:23.293441Z",
     "iopub.status.busy": "2021-05-11T07:59:23.292624Z",
     "iopub.status.idle": "2021-05-11T07:59:23.296304Z",
     "shell.execute_reply": "2021-05-11T07:59:23.295640Z"
    },
    "papermill": {
     "duration": 0.114977,
     "end_time": "2021-05-11T07:59:23.296469",
     "exception": false,
     "start_time": "2021-05-11T07:59:23.181492",
     "status": "completed"
    },
    "tags": []
   },
   "outputs": [],
   "source": [
    "# Convert np array to Series\n",
    "my_list = map(lambda x: x[0], y_pred)\n",
    "y_pred = pd.Series(my_list)\n",
    "\n",
    "# Convert True/False values back to 1 and 0s\n",
    "y_prediction = y_pred.astype(int)"
   ]
  },
  {
   "cell_type": "markdown",
   "id": "tight-distinction",
   "metadata": {
    "papermill": {
     "duration": 0.115428,
     "end_time": "2021-05-11T07:59:23.527987",
     "exception": false,
     "start_time": "2021-05-11T07:59:23.412559",
     "status": "completed"
    },
    "tags": []
   },
   "source": [
    "### Step 8 - Measuring Accuracy of our Model"
   ]
  },
  {
   "cell_type": "code",
   "execution_count": 26,
   "id": "beneficial-story",
   "metadata": {
    "execution": {
     "iopub.execute_input": "2021-05-11T07:59:23.747784Z",
     "iopub.status.busy": "2021-05-11T07:59:23.746975Z",
     "iopub.status.idle": "2021-05-11T07:59:23.753458Z",
     "shell.execute_reply": "2021-05-11T07:59:23.753936Z"
    },
    "papermill": {
     "duration": 0.1185,
     "end_time": "2021-05-11T07:59:23.754116",
     "exception": false,
     "start_time": "2021-05-11T07:59:23.635616",
     "status": "completed"
    },
    "tags": []
   },
   "outputs": [
    {
     "name": "stdout",
     "output_type": "stream",
     "text": [
      "[[  0  49]\n",
      " [  2 146]]\n"
     ]
    },
    {
     "data": {
      "text/plain": [
       "0.7411167512690355"
      ]
     },
     "execution_count": 26,
     "metadata": {},
     "output_type": "execute_result"
    }
   ],
   "source": [
    "from sklearn.metrics import confusion_matrix, accuracy_score\n",
    "cm = confusion_matrix(y_test, y_prediction)\n",
    "print(cm)\n",
    "accuracy_score(y_test, y_prediction)"
   ]
  },
  {
   "cell_type": "code",
   "execution_count": 27,
   "id": "dimensional-payment",
   "metadata": {
    "execution": {
     "iopub.execute_input": "2021-05-11T07:59:23.983162Z",
     "iopub.status.busy": "2021-05-11T07:59:23.982099Z",
     "iopub.status.idle": "2021-05-11T07:59:24.244806Z",
     "shell.execute_reply": "2021-05-11T07:59:24.242981Z"
    },
    "papermill": {
     "duration": 0.384131,
     "end_time": "2021-05-11T07:59:24.244965",
     "exception": false,
     "start_time": "2021-05-11T07:59:23.860834",
     "status": "completed"
    },
    "tags": []
   },
   "outputs": [
    {
     "data": {
      "text/plain": [
       "<AxesSubplot:>"
      ]
     },
     "execution_count": 27,
     "metadata": {},
     "output_type": "execute_result"
    },
    {
     "data": {
      "image/png": "[encoded data removed]",
      "text/plain": [
       "<Figure size 432x288 with 2 Axes>"
      ]
     },
     "metadata": {
      "needs_background": "light"
     },
     "output_type": "display_data"
    }
   ],
   "source": [
    "sns.heatmap(cm, cmap=\"Blues\", annot=True, fmt='g')"
   ]
  },
  {
   "cell_type": "code",
   "execution_count": null,
   "id": "indonesian-diameter",
   "metadata": {
    "papermill": {
     "duration": 0.107824,
     "end_time": "2021-05-11T07:59:24.458315",
     "exception": false,
     "start_time": "2021-05-11T07:59:24.350491",
     "status": "completed"
    },
    "tags": []
   },
   "outputs": [],
   "source": []
  }
 ],
 "metadata": {
  "kernelspec": {
   "display_name": "Python 3",
   "language": "python",
   "name": "python3"
  },
  "language_info": {
   "codemirror_mode": {
    "name": "ipython",
    "version": 3
   },
   "file_extension": ".py",
   "mimetype": "text/x-python",
   "name": "python",
   "nbconvert_exporter": "python",
   "pygments_lexer": "ipython3",
   "version": "3.7.10"
  },
  "papermill": {
   "default_parameters": {},
   "duration": 29.905185,
   "end_time": "2021-05-11T07:59:25.778165",
   "environment_variables": {},
   "exception": null,
   "input_path": "__notebook__.ipynb",
   "output_path": "__notebook__.ipynb",
   "parameters": {},
   "start_time": "2021-05-11T07:58:55.872980",
   "version": "2.3.3"
  }
 },
 "nbformat": 4,
 "nbformat_minor": 5
}
